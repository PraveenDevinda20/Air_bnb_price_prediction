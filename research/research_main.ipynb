{
 "cells": [
  {
   "cell_type": "code",
   "execution_count": null,
   "id": "fc6b3e69",
   "metadata": {
    "vscode": {
     "languageId": "plaintext"
    }
   },
   "outputs": [],
   "source": [
    "import csv\n",
    "import pandas as pd\n",
    "import numpy as np\n",
    "import matplotlib.pyplot as plt\n",
    "import scipy.stats as stats\n",
    "import seaborn as sns\n",
    "import ast\n",
    "from sklearn.preprocessing import StandardScaler, OneHotEncoder, LabelEncoder\n",
    "from sklearn.compose import ColumnTransformer\n",
    "from sklearn.pipeline import Pipeline\n",
    "from sklearn.impute import SimpleImputer\n",
    "from sklearn.model_selection import train_test_split\n",
    "from sklearn.metrics import mean_squared_error, r2_score, mean_absolute_error, median_absolute_error\n",
    "from xgboost import XGBRegressor\n",
    "from sklearn.model_selection import RandomizedSearchCV"
   ]
  },
  {
   "cell_type": "code",
   "execution_count": null,
   "id": "6c6482e3",
   "metadata": {
    "vscode": {
     "languageId": "plaintext"
    }
   },
   "outputs": [],
   "source": [
    "input_file = \"../data/raw/listings_detailed.csv\"\n",
    "output_file = \"../data/processed/listings_fixed.csv\"\n",
    "\n",
    "rows = []\n",
    "\n",
    "# Step 1: Read raw CSV safely\n",
    "with open(input_file, \"r\", encoding=\"utf-8\", errors=\"replace\") as f:\n",
    "    reader = csv.reader(f)\n",
    "    for row in reader:\n",
    "        rows.append(row)\n",
    "\n",
    "# Step 2: Detect the correct number of columns (based on header)\n",
    "expected_cols = len(rows[0])\n",
    "print(f\"Expected columns: {expected_cols}\")\n",
    "\n",
    "# Step 3: Fix rows with wrong number of columns\n",
    "fixed_rows = []\n",
    "for i, row in enumerate(rows):\n",
    "    if len(row) != expected_cols:\n",
    "        print(f\"Fixing row {i+1}: had {len(row)} columns\")\n",
    "        if len(row) < expected_cols:\n",
    "            # Pad missing columns\n",
    "            row += [\"\"] * (expected_cols - len(row))\n",
    "        else:\n",
    "            # Merge extra columns into the last one\n",
    "            row = row[:expected_cols-1] + [\",\".join(row[expected_cols-1:])]\n",
    "    fixed_rows.append(row)\n",
    "\n",
    "# Step 4: Save fixed CSV\n",
    "with open(output_file, \"w\", newline=\"\", encoding=\"utf-8\") as f:\n",
    "    writer = csv.writer(f)\n",
    "    writer.writerows(fixed_rows)\n",
    "\n",
    "# Step 5: Load into pandas\n",
    "data = pd.read_csv(output_file)\n",
    "print(\"DataFrame shape:\", data.shape)\n",
    "print(data.head())"
   ]
  },
  {
   "cell_type": "code",
   "execution_count": null,
   "id": "32abfe53",
   "metadata": {
    "vscode": {
     "languageId": "plaintext"
    }
   },
   "outputs": [],
   "source": [
    "pd.set_option('display.max_rows', None)  \n",
    "pd.set_option('display.max_columns', None)\n",
    "data.isna().sum().to_csv(\"../data/processed/missing_summary.csv\")"
   ]
  },
  {
   "cell_type": "code",
   "execution_count": null,
   "id": "4c5195aa",
   "metadata": {
    "vscode": {
     "languageId": "plaintext"
    }
   },
   "outputs": [],
   "source": [
    "data.price\n",
    "data['price'] = data['price'].replace('[\\$,]', '', regex = True).astype(float)"
   ]
  },
  {
   "cell_type": "code",
   "execution_count": null,
   "id": "c2110871",
   "metadata": {
    "vscode": {
     "languageId": "plaintext"
    }
   },
   "outputs": [],
   "source": [
    "Q1 = data[\"price\"].quantile(0.25)   \n",
    "Q3 = data[\"price\"].quantile(0.75)   \n",
    "IQR = Q3 - Q1\n",
    "\n",
    "lower_bound = Q1 - 1.5 * IQR\n",
    "upper_bound = Q3 + 1.5 * IQR\n",
    "\n",
    "# outliers = data[(data[\"price\"] < lower_bound) | (data[\"price\"] > upper_bound)]\n",
    "data = data[(data['price'] >= lower_bound) & (data['price'] <= upper_bound)]"
   ]
  },
  {
   "cell_type": "code",
   "execution_count": null,
   "id": "fa3a6cbf",
   "metadata": {
    "vscode": {
     "languageId": "plaintext"
    }
   },
   "outputs": [],
   "source": [
    "# data[\"price_log\"] = np.log1p(data[\"price\"])"
   ]
  },
  {
   "cell_type": "code",
   "execution_count": null,
   "id": "f2a177a4",
   "metadata": {
    "vscode": {
     "languageId": "plaintext"
    }
   },
   "outputs": [],
   "source": []
  },
  {
   "cell_type": "code",
   "execution_count": null,
   "id": "e87d6979",
   "metadata": {
    "vscode": {
     "languageId": "plaintext"
    }
   },
   "outputs": [],
   "source": []
  },
  {
   "cell_type": "code",
   "execution_count": null,
   "id": "8d4a0732",
   "metadata": {
    "vscode": {
     "languageId": "plaintext"
    }
   },
   "outputs": [],
   "source": []
  },
  {
   "cell_type": "code",
   "execution_count": null,
   "id": "63325575",
   "metadata": {
    "vscode": {
     "languageId": "plaintext"
    }
   },
   "outputs": [],
   "source": [
    "# plt.hist(data[\"price_log\"], bins=50)\n",
    "# plt.title(\"Distribution of Log-Transformed Prices\")\n",
    "# plt.show()"
   ]
  },
  {
   "cell_type": "code",
   "execution_count": null,
   "id": "3609f118",
   "metadata": {
    "vscode": {
     "languageId": "plaintext"
    }
   },
   "outputs": [],
   "source": [
    "# plt.boxplot(data[\"price_log\"], vert=False)\n",
    "# plt.title(\"Boxplot of Log-Transformed Prices\")\n",
    "# plt.show()"
   ]
  },
  {
   "cell_type": "code",
   "execution_count": null,
   "id": "f3e7ed33",
   "metadata": {
    "vscode": {
     "languageId": "plaintext"
    }
   },
   "outputs": [],
   "source": [
    "    # stats.probplot(data[\"price_log\"], dist=\"norm\", plot=plt)\n",
    "    # plt.show()"
   ]
  },
  {
   "cell_type": "code",
   "execution_count": null,
   "id": "80c8c245",
   "metadata": {
    "vscode": {
     "languageId": "plaintext"
    }
   },
   "outputs": [],
   "source": [
    "# Percentile-based winsorization\n",
    "lower_cap = data[\"price\"].quantile(0.01)\n",
    "upper_cap = data[\"price\"].quantile(0.99)\n",
    "\n",
    "data[\"price_capped\"] = data[\"price\"].clip(lower=lower_cap, upper=upper_cap)\n",
    "data[\"price_log\"] = np.log1p(data[\"price_capped\"])"
   ]
  },
  {
   "cell_type": "code",
   "execution_count": null,
   "id": "a14aa876",
   "metadata": {
    "vscode": {
     "languageId": "plaintext"
    }
   },
   "outputs": [],
   "source": [
    "plt.hist(data[\"price_log\"], bins=50)\n",
    "plt.title(\"Distribution of Log-Transformed Prices\")\n",
    "plt.show()"
   ]
  },
  {
   "cell_type": "code",
   "execution_count": null,
   "id": "dfe1832d",
   "metadata": {
    "vscode": {
     "languageId": "plaintext"
    }
   },
   "outputs": [],
   "source": [
    "stats.probplot(data[\"price_log\"], dist=\"norm\", plot=plt)\n",
    "plt.show()"
   ]
  },
  {
   "cell_type": "code",
   "execution_count": null,
   "id": "c23a2262",
   "metadata": {
    "vscode": {
     "languageId": "plaintext"
    }
   },
   "outputs": [],
   "source": [
    "sns.histplot(data[\"price_log\"], kde=True)"
   ]
  },
  {
   "cell_type": "code",
   "execution_count": null,
   "id": "81e784b9",
   "metadata": {
    "vscode": {
     "languageId": "plaintext"
    }
   },
   "outputs": [],
   "source": [
    "data['host_since'] = pd.to_datetime(data['host_since'], errors='coerce')\n",
    "data['host_days'] = (pd.to_datetime(\"today\") - data['host_since']).dt.days.fillna(0)\n",
    "\n",
    "data['last_review'] = pd.to_datetime(data['last_review'], errors='coerce')\n",
    "data['days_since_last_review'] = (pd.to_datetime(\"today\") - data['last_review']).dt.days.fillna(9999)"
   ]
  }
 ],
 "metadata": {
  "language_info": {
   "name": "python"
  }
 },
 "nbformat": 4,
 "nbformat_minor": 5
}
