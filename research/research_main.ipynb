{
 "cells": [
  {
   "cell_type": "code",
   "execution_count": null,
   "id": "fc6b3e69",
   "metadata": {
    "vscode": {
     "languageId": "plaintext"
    }
   },
   "outputs": [],
   "source": [
    "import csv\n",
    "import pandas as pd\n",
    "import numpy as np\n",
    "import matplotlib.pyplot as plt\n",
    "import scipy.stats as stats\n",
    "import seaborn as sns\n",
    "import ast\n",
    "from sklearn.preprocessing import StandardScaler, OneHotEncoder, LabelEncoder\n",
    "from sklearn.compose import ColumnTransformer\n",
    "from sklearn.pipeline import Pipeline\n",
    "from sklearn.impute import SimpleImputer\n",
    "from sklearn.model_selection import train_test_split\n",
    "from sklearn.metrics import mean_squared_error, r2_score, mean_absolute_error, median_absolute_error\n",
    "from xgboost import XGBRegressor\n",
    "from sklearn.model_selection import RandomizedSearchCV"
   ]
  },
  {
   "cell_type": "code",
   "execution_count": null,
   "id": "6c6482e3",
   "metadata": {
    "vscode": {
     "languageId": "plaintext"
    }
   },
   "outputs": [],
   "source": [
    "input_file = \"../data/raw/listings_detailed.csv\"\n",
    "output_file = \"../data/processed/listings_fixed.csv\"\n",
    "\n",
    "rows = []\n",
    "\n",
    "# Step 1: Read raw CSV safely\n",
    "with open(input_file, \"r\", encoding=\"utf-8\", errors=\"replace\") as f:\n",
    "    reader = csv.reader(f)\n",
    "    for row in reader:\n",
    "        rows.append(row)\n",
    "\n",
    "# Step 2: Detect the correct number of columns (based on header)\n",
    "expected_cols = len(rows[0])\n",
    "print(f\"Expected columns: {expected_cols}\")\n",
    "\n",
    "# Step 3: Fix rows with wrong number of columns\n",
    "fixed_rows = []\n",
    "for i, row in enumerate(rows):\n",
    "    if len(row) != expected_cols:\n",
    "        print(f\"Fixing row {i+1}: had {len(row)} columns\")\n",
    "        if len(row) < expected_cols:\n",
    "            # Pad missing columns\n",
    "            row += [\"\"] * (expected_cols - len(row))\n",
    "        else:\n",
    "            # Merge extra columns into the last one\n",
    "            row = row[:expected_cols-1] + [\",\".join(row[expected_cols-1:])]\n",
    "    fixed_rows.append(row)\n",
    "\n",
    "# Step 4: Save fixed CSV\n",
    "with open(output_file, \"w\", newline=\"\", encoding=\"utf-8\") as f:\n",
    "    writer = csv.writer(f)\n",
    "    writer.writerows(fixed_rows)\n",
    "\n",
    "# Step 5: Load into pandas\n",
    "data = pd.read_csv(output_file)\n",
    "print(\"DataFrame shape:\", data.shape)\n",
    "print(data.head())"
   ]
  }
 ],
 "metadata": {
  "language_info": {
   "name": "python"
  }
 },
 "nbformat": 4,
 "nbformat_minor": 5
}
